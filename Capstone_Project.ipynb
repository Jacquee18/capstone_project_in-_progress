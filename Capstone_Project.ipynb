{
  "nbformat": 4,
  "nbformat_minor": 0,
  "metadata": {
    "colab": {
      "provenance": [],
      "authorship_tag": "ABX9TyP6lJe6NupntKtaIoEN3qCv"
    },
    "kernelspec": {
      "name": "python3",
      "display_name": "Python 3"
    },
    "language_info": {
      "name": "python"
    }
  },
  "cells": [
    {
      "cell_type": "code",
      "execution_count": 1,
      "metadata": {
        "id": "SwKRqfIn_jfY"
      },
      "outputs": [],
      "source": [
        "import requests\n",
        "# to get data from website\n",
        "file = requests.get(\"https://weather.com/en-IN/weather/tenday/l/INKA0344:1:IN\")\n"
      ]
    },
    {
      "cell_type": "code",
      "source": [
        "# import Beautifulsoup for scraping the data\n",
        "from bs4 import BeautifulSoup\n",
        "soup = BeautifulSoup(file.content, \"html.parser\")\n"
      ],
      "metadata": {
        "id": "TLIiUaVYA6ro"
      },
      "execution_count": 2,
      "outputs": []
    },
    {
      "cell_type": "code",
      "source": [
        "# Import BeautifulSoup and requests\n",
        "from bs4 import BeautifulSoup\n",
        "import requests\n",
        "\n",
        "# Create an empty list to store data\n",
        "weather_data = []\n",
        "\n",
        "# Make an HTTP request to the website and create a BeautifulSoup object\n",
        "url = \"https://weather.com/en-IN/weather/tenday/l/INKA0344:1:IN\"\n",
        "response = requests.get(url)\n",
        "soup = BeautifulSoup(response.content, 'html.parser')\n",
        "\n",
        "# Find the title of the page\n",
        "title_element = soup.find(\"div\", {\"class\": \"locations-title ten-day-page-title\"})\n",
        "if title_element:\n",
        "    page_title = title_element.find(\"h1\").text\n",
        "else:\n",
        "    page_title = \"Title not found\"\n",
        "\n",
        "# Find all tables with class \"twc-table\"\n",
        "tables = soup.find_all(\"table\", {\"class\": \"twc-table\"})\n",
        "\n",
        "# Loop through the tables and extract data\n",
        "for table in tables:\n",
        "    for row in table.find_all(\"tr\"):\n",
        "        data = {}\n",
        "        try:\n",
        "            data[\"day\"] = row.find(\"span\", {\"class\": \"date-time\"}).text\n",
        "            data[\"date\"] = row.find(\"span\", {\"class\": \"day-detail\"}).text\n",
        "            data[\"desc\"] = row.find(\"td\", {\"class\": \"description\"}).text\n",
        "            data[\"temp\"] = row.find(\"td\", {\"class\": \"temp\"}).text\n",
        "            data[\"precip\"] = row.find(\"td\", {\"class\": \"precip\"}).text\n",
        "            data[\"wind\"] = row.find(\"td\", {\"class\": \"wind\"}).text\n",
        "            data[\"humidity\"] = row.find(\"td\", {\"class\": \"humidity\"}).text\n",
        "        except AttributeError:\n",
        "            data[\"day\"] = \"None\"\n",
        "            data[\"date\"] = \"None\"\n",
        "            data[\"desc\"] = \"None\"\n",
        "            data[\"temp\"] = \"None\"\n",
        "            data[\"precip\"] = \"None\"\n",
        "            data[\"wind\"] = \"None\"\n",
        "            data[\"humidity\"] = \"None\"\n",
        "        weather_data.append(data)\n",
        "\n",
        "# Now, you have the weather data in the \"weather_data\" list\n"
      ],
      "metadata": {
        "id": "kHM7bYmMCCph"
      },
      "execution_count": 3,
      "outputs": []
    },
    {
      "cell_type": "code",
      "source": [
        "import pandas as pd\n",
        "convert = pd.DataFrame(weather_data)\n",
        "convert.to_csv(\"output.csv\")\n"
      ],
      "metadata": {
        "id": "_Pu5u8EtCeAY"
      },
      "execution_count": 4,
      "outputs": []
    },
    {
      "cell_type": "code",
      "source": [
        "# read csv file using pandas\n",
        "a = pd.read_csv(\"output.csv\",index_col=0)\n",
        "print(a)\n"
      ],
      "metadata": {
        "id": "Km1kSBmHKem-"
      },
      "execution_count": 5,
      "outputs": []
    }
  ]
}